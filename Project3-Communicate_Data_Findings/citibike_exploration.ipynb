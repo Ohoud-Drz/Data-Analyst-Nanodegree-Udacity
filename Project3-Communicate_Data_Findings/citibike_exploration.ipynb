{
 "cells": [
  {
   "cell_type": "markdown",
   "metadata": {},
   "source": [
    "# CitiBike Data Exploration - Second Quarter 2020/2021\n",
    "## by Ohoud Draz\n",
    "\n",
    "\n",
    "\n",
    "## Table of Contents\n",
    "<ul>\n",
    "<li><a href=\"#intro\">Introduction</a></li>\n",
    "<li><a href=\"#wrangling\">Preliminary Wrangling</a></li>\n",
    "<li><a href=\"#uni\">Univariate Exploration</a></li>\n",
    "<li><a href=\"#bi\">Bivariate Exploration</a></li>\n",
    "<li><a href=\"#multi\">Multivariate Exploration</a></li>\n",
    "<li><a href=\"#conclusions\">Conclusions</a></li>\n",
    "</ul>"
   ]
  },
  {
   "cell_type": "markdown",
   "metadata": {},
   "source": [
    "<a id='intro'></a>\n",
    "## Introduction\n",
    "\n",
    "Citi Bike is New York City’s bike share system, with 20,000 bikes and over 1,300 stations. Launched in May 2013, and has become an essential part of transportation network.\n",
    "Ideal for one-way trips since the bikes can be unlocked from one station and returned to any other station in the system.\n",
    "The bikes are available for use 24 hours/day, 7 days/week, 365 days/year and riders have access to all bikes when they become a member through an annual membership or purchase a single ride or 24-hour pass.\n"
   ]
  },
  {
   "cell_type": "markdown",
   "metadata": {},
   "source": [
    "<a id='wrangling'></a>\n",
    "## Preliminary Wrangling\n",
    "\n",
    "> Two datasets for the years 2020 and 2021 have been used. Each dataset contains information about trips made in CitiBike system during the second quarter of the year.\n",
    "CitiBike system creates a file for each month. The files downloaded from their website https://ride.citibikenyc.com/system-data and compiled into one file for each year."
   ]
  },
  {
   "cell_type": "code",
   "execution_count": 1,
   "metadata": {},
   "outputs": [],
   "source": [
    "# import all packages and set plots to be embedded inline\n",
    "import numpy as np\n",
    "import pandas as pd\n",
    "import matplotlib.pyplot as plt\n",
    "import seaborn as sb\n",
    "import csv\n",
    "from os import listdir\n",
    "\n",
    "%matplotlib inline"
   ]
  },
  {
   "cell_type": "markdown",
   "metadata": {},
   "source": [
    "##### Preprocessing Functions\n",
    "> Create combine_csv_files() and df_updates() functions to reduce repetitive code. These functions are being used in data preprocessing step."
   ]
  },
  {
   "cell_type": "code",
   "execution_count": 2,
   "metadata": {},
   "outputs": [],
   "source": [
    "def combine_csv_files(dir_csv,final_csv_name):\n",
    "    '''\n",
    "    Combine csv files into one file.\n",
    "      Parameters:\n",
    "         dir_csv (string): folder of csv files.\n",
    "         final_csv_name (string): name of final csv file.\n",
    "    '''\n",
    "    dfs_lst = []\n",
    "    for file_name in listdir(dir_csv):\n",
    "        dfs_lst.append(pd.read_csv(dir_csv+'/'+file_name))\n",
    "    df = pd.concat(dfs_lst)\n",
    "    df.to_csv(final_csv_name,index=False)\n",
    "    print('\"',final_csv_name,'\" is ready!')"
   ]
  },
  {
   "cell_type": "code",
   "execution_count": 3,
   "metadata": {},
   "outputs": [],
   "source": [
    "def df_updates(df):\n",
    "    '''\n",
    "    Apply updates to dataframe columns.\n",
    "      Parameters:\n",
    "         df (pandas dataframe): dataframe input.\n",
    "         final_df (pandas dataframe): dataframe result after applying updates.\n",
    "    '''\n",
    "    df_final = df.copy()\n",
    "     # Cast column to an appropriate dtype\n",
    "    #   convert member_casual column to category dtype as the member_casual column with only 2 unique values.\n",
    "    df_final['member_casual'] = df_final['member_casual'].astype('category')\n",
    "    #   convert bike_type column to category dtype as the member_casual column with only 3 unique values.\n",
    "    if 'bike_type' in df_final.columns:\n",
    "        df_final['bike_type'] = df_final['bike_type'].astype('category')\n",
    "    #   convert gender column to category dtype as the member_casual column with only two unique values.\n",
    "    if 'gender' in df_final.columns:\n",
    "        df_final['gender'] = df_final['gender'].astype('category')\n",
    "    #   convert 'start_station_name' column to 'string' dtype\n",
    "    df_final['start_station_name'] = df_final['start_station_name'].astype('string')\n",
    "    #   convert 'started_at','ended_at' to datetime type\n",
    "    df_final['started_at'] = pd.to_datetime(df_final['started_at'])\n",
    "    df_final['ended_at'] = pd.to_datetime(df_final['ended_at'])\n",
    "    \n",
    "    # Extract month, dayofweek and hour from the start_time and save them in separate columns.\n",
    "    df_final['start_hour']= df_final.started_at.dt.hour\n",
    "    df_final['start_day']= df_final.started_at.dt.strftime('%A').astype('string')\n",
    "    df_final['start_month']= df_final.started_at.dt.strftime(\"%B\").astype('string')\n",
    "   \n",
    "    # Calculate trip duration in minutes\n",
    "    df_final['duration_min'] = (df_final['ended_at'] - df_final['started_at'])/np.timedelta64(1,'m')    \n",
    "    return df_final"
   ]
  },
  {
   "cell_type": "markdown",
   "metadata": {},
   "source": [
    "#### Combine each year's files into one csv file."
   ]
  },
  {
   "cell_type": "code",
   "execution_count": 4,
   "metadata": {},
   "outputs": [],
   "source": [
    "# These folders contains second-qurater files for each year. \n",
    "dir_csv_2020 = 'citibike_data_2020'\n",
    "dir_csv_2021 = 'citibike_data_2021'\n",
    "# Names of final csv files\n",
    "final_csv_2020 = 'citibike_2020.csv'\n",
    "final_csv_2021 = 'citibike_2021.csv'"
   ]
  },
  {
   "cell_type": "code",
   "execution_count": 5,
   "metadata": {},
   "outputs": [
    {
     "name": "stdout",
     "output_type": "stream",
     "text": [
      ">>> \u001b[1m citibike_data_2020 \u001b[0m\n",
      "\t\u001b[1m months\u001b[0m:   ['apr.csv', 'jun.csv', 'may.csv'] \n",
      "\t\u001b[1m columns\u001b[0m:   ('bikeid', 'birth year', 'end station id', 'end station latitude', 'end station longitude', 'end station name', 'gender', 'start station id', 'start station latitude', 'start station longitude', 'start station name', 'starttime', 'stoptime', 'tripduration', 'usertype') \n",
      "\n",
      ">>> \u001b[1m citibike_data_2021 \u001b[0m\n",
      "\t\u001b[1m months\u001b[0m:   ['apr.csv', 'jun.csv', 'may.csv'] \n",
      "\t\u001b[1m columns\u001b[0m:   ('end_lat', 'end_lng', 'end_station_id', 'end_station_name', 'ended_at', 'member_casual', 'ride_id', 'rideable_type', 'start_lat', 'start_lng', 'start_station_id', 'start_station_name', 'started_at') \n",
      "\n"
     ]
    }
   ],
   "source": [
    "# Before combining files, check if the year's files have the same column names.\n",
    "dir_csv_lst = [dir_csv_2020,dir_csv_2021]\n",
    "for dir_csv in dir_csv_lst:\n",
    "    print(\">>> \\033[1m\",dir_csv,'\\033[0m')\n",
    "    dir_col_dict = {}\n",
    "    for csv_file in listdir(dir_csv):\n",
    "        df_columns = tuple(sorted(pd.read_csv(dir_csv+'/'+csv_file, nrows=1).columns))\n",
    "        if df_columns not in list(dir_col_dict.keys()):\n",
    "            dir_col_dict[df_columns] = [csv_file]\n",
    "        else:\n",
    "            dir_col_dict[df_columns].append(csv_file)\n",
    "    for key,value in dir_col_dict.items():\n",
    "        print('\\t\\033[1m months\\033[0m:  ',value,'\\n\\t\\033[1m columns\\033[0m:  ',key,'\\n')"
   ]
  },
  {
   "cell_type": "markdown",
   "metadata": {},
   "source": [
    "The year's files have the same column names so we can easily combining them into one csv file."
   ]
  },
  {
   "cell_type": "code",
   "execution_count": 6,
   "metadata": {},
   "outputs": [
    {
     "name": "stdout",
     "output_type": "stream",
     "text": [
      "\" citibike_2020.csv \" is ready!\n"
     ]
    }
   ],
   "source": [
    "# year 2020\n",
    "combine_csv_files(dir_csv_2020,final_csv_2020)"
   ]
  },
  {
   "cell_type": "code",
   "execution_count": 7,
   "metadata": {},
   "outputs": [
    {
     "name": "stderr",
     "output_type": "stream",
     "text": [
      "C:\\Users\\Ohoud\\AppData\\Local\\Temp/ipykernel_9324/281443011.py:2: DtypeWarning: Columns (5,7) have mixed types.Specify dtype option on import or set low_memory=False.\n",
      "  combine_csv_files(dir_csv_2021,final_csv_2021)\n",
      "C:\\Users\\Ohoud\\AppData\\Local\\Temp/ipykernel_9324/281443011.py:2: DtypeWarning: Columns (7) have mixed types.Specify dtype option on import or set low_memory=False.\n",
      "  combine_csv_files(dir_csv_2021,final_csv_2021)\n"
     ]
    },
    {
     "name": "stdout",
     "output_type": "stream",
     "text": [
      "\" citibike_2021.csv \" is ready!\n"
     ]
    }
   ],
   "source": [
    "# year 2021\n",
    "combine_csv_files(dir_csv_2021,final_csv_2021)"
   ]
  },
  {
   "cell_type": "markdown",
   "metadata": {},
   "source": [
    "### Datasets"
   ]
  },
  {
   "cell_type": "markdown",
   "metadata": {},
   "source": [
    "Load data and print out a few rows."
   ]
  },
  {
   "cell_type": "code",
   "execution_count": 22,
   "metadata": {},
   "outputs": [
    {
     "data": {
      "text/html": [
       "<div>\n",
       "<style scoped>\n",
       "    .dataframe tbody tr th:only-of-type {\n",
       "        vertical-align: middle;\n",
       "    }\n",
       "\n",
       "    .dataframe tbody tr th {\n",
       "        vertical-align: top;\n",
       "    }\n",
       "\n",
       "    .dataframe thead th {\n",
       "        text-align: right;\n",
       "    }\n",
       "</style>\n",
       "<table border=\"1\" class=\"dataframe\">\n",
       "  <thead>\n",
       "    <tr style=\"text-align: right;\">\n",
       "      <th></th>\n",
       "      <th>tripduration</th>\n",
       "      <th>starttime</th>\n",
       "      <th>stoptime</th>\n",
       "      <th>start station id</th>\n",
       "      <th>start station name</th>\n",
       "      <th>start station latitude</th>\n",
       "      <th>start station longitude</th>\n",
       "      <th>end station id</th>\n",
       "      <th>end station name</th>\n",
       "      <th>end station latitude</th>\n",
       "      <th>end station longitude</th>\n",
       "      <th>bikeid</th>\n",
       "      <th>usertype</th>\n",
       "      <th>birth year</th>\n",
       "      <th>gender</th>\n",
       "    </tr>\n",
       "  </thead>\n",
       "  <tbody>\n",
       "    <tr>\n",
       "      <th>0</th>\n",
       "      <td>534</td>\n",
       "      <td>2020-04-01 00:00:15.2800</td>\n",
       "      <td>2020-04-01 00:09:09.8730</td>\n",
       "      <td>3656</td>\n",
       "      <td>E 2 St &amp; Avenue A</td>\n",
       "      <td>40.723077</td>\n",
       "      <td>-73.985836</td>\n",
       "      <td>545</td>\n",
       "      <td>E 23 St &amp; 1 Ave</td>\n",
       "      <td>40.736502</td>\n",
       "      <td>-73.978095</td>\n",
       "      <td>15162</td>\n",
       "      <td>Subscriber</td>\n",
       "      <td>1990</td>\n",
       "      <td>2</td>\n",
       "    </tr>\n",
       "    <tr>\n",
       "      <th>1</th>\n",
       "      <td>529</td>\n",
       "      <td>2020-04-01 00:02:28.9430</td>\n",
       "      <td>2020-04-01 00:11:18.3410</td>\n",
       "      <td>3163</td>\n",
       "      <td>Central Park West &amp; W 68 St</td>\n",
       "      <td>40.773407</td>\n",
       "      <td>-73.977825</td>\n",
       "      <td>3301</td>\n",
       "      <td>Columbus Ave &amp; W 95 St</td>\n",
       "      <td>40.791956</td>\n",
       "      <td>-73.968087</td>\n",
       "      <td>42861</td>\n",
       "      <td>Subscriber</td>\n",
       "      <td>1974</td>\n",
       "      <td>1</td>\n",
       "    </tr>\n",
       "    <tr>\n",
       "      <th>2</th>\n",
       "      <td>1488</td>\n",
       "      <td>2020-04-01 00:02:56.0900</td>\n",
       "      <td>2020-04-01 00:27:44.2530</td>\n",
       "      <td>3164</td>\n",
       "      <td>Columbus Ave &amp; W 72 St</td>\n",
       "      <td>40.777057</td>\n",
       "      <td>-73.978985</td>\n",
       "      <td>3605</td>\n",
       "      <td>31 Ave &amp; Crescent St</td>\n",
       "      <td>40.765835</td>\n",
       "      <td>-73.926547</td>\n",
       "      <td>35989</td>\n",
       "      <td>Subscriber</td>\n",
       "      <td>1982</td>\n",
       "      <td>1</td>\n",
       "    </tr>\n",
       "    <tr>\n",
       "      <th>3</th>\n",
       "      <td>341</td>\n",
       "      <td>2020-04-01 00:03:25.1410</td>\n",
       "      <td>2020-04-01 00:09:06.3190</td>\n",
       "      <td>3827</td>\n",
       "      <td>Halsey St &amp; Broadway</td>\n",
       "      <td>40.685650</td>\n",
       "      <td>-73.915640</td>\n",
       "      <td>3869</td>\n",
       "      <td>Van Buren St &amp; Broadway</td>\n",
       "      <td>40.692000</td>\n",
       "      <td>-73.926170</td>\n",
       "      <td>37548</td>\n",
       "      <td>Subscriber</td>\n",
       "      <td>1996</td>\n",
       "      <td>1</td>\n",
       "    </tr>\n",
       "    <tr>\n",
       "      <th>4</th>\n",
       "      <td>2206</td>\n",
       "      <td>2020-04-01 00:05:35.2790</td>\n",
       "      <td>2020-04-01 00:42:21.9080</td>\n",
       "      <td>3890</td>\n",
       "      <td>Grove St &amp; Broadway</td>\n",
       "      <td>40.690470</td>\n",
       "      <td>-73.923511</td>\n",
       "      <td>3058</td>\n",
       "      <td>Lewis Ave &amp; Kosciuszko St</td>\n",
       "      <td>40.692371</td>\n",
       "      <td>-73.937054</td>\n",
       "      <td>39701</td>\n",
       "      <td>Subscriber</td>\n",
       "      <td>1977</td>\n",
       "      <td>1</td>\n",
       "    </tr>\n",
       "  </tbody>\n",
       "</table>\n",
       "</div>"
      ],
      "text/plain": [
       "   tripduration                 starttime                  stoptime  \\\n",
       "0           534  2020-04-01 00:00:15.2800  2020-04-01 00:09:09.8730   \n",
       "1           529  2020-04-01 00:02:28.9430  2020-04-01 00:11:18.3410   \n",
       "2          1488  2020-04-01 00:02:56.0900  2020-04-01 00:27:44.2530   \n",
       "3           341  2020-04-01 00:03:25.1410  2020-04-01 00:09:06.3190   \n",
       "4          2206  2020-04-01 00:05:35.2790  2020-04-01 00:42:21.9080   \n",
       "\n",
       "   start station id           start station name  start station latitude  \\\n",
       "0              3656            E 2 St & Avenue A               40.723077   \n",
       "1              3163  Central Park West & W 68 St               40.773407   \n",
       "2              3164       Columbus Ave & W 72 St               40.777057   \n",
       "3              3827         Halsey St & Broadway               40.685650   \n",
       "4              3890          Grove St & Broadway               40.690470   \n",
       "\n",
       "   start station longitude  end station id           end station name  \\\n",
       "0               -73.985836             545            E 23 St & 1 Ave   \n",
       "1               -73.977825            3301     Columbus Ave & W 95 St   \n",
       "2               -73.978985            3605       31 Ave & Crescent St   \n",
       "3               -73.915640            3869    Van Buren St & Broadway   \n",
       "4               -73.923511            3058  Lewis Ave & Kosciuszko St   \n",
       "\n",
       "   end station latitude  end station longitude  bikeid    usertype  \\\n",
       "0             40.736502             -73.978095   15162  Subscriber   \n",
       "1             40.791956             -73.968087   42861  Subscriber   \n",
       "2             40.765835             -73.926547   35989  Subscriber   \n",
       "3             40.692000             -73.926170   37548  Subscriber   \n",
       "4             40.692371             -73.937054   39701  Subscriber   \n",
       "\n",
       "   birth year  gender  \n",
       "0        1990       2  \n",
       "1        1974       1  \n",
       "2        1982       1  \n",
       "3        1996       1  \n",
       "4        1977       1  "
      ]
     },
     "execution_count": 22,
     "metadata": {},
     "output_type": "execute_result"
    }
   ],
   "source": [
    "# year 2020\n",
    "df_2020 = pd.read_csv(final_csv_2020)\n",
    "df_2020.head()"
   ]
  },
  {
   "cell_type": "code",
   "execution_count": 23,
   "metadata": {},
   "outputs": [
    {
     "name": "stderr",
     "output_type": "stream",
     "text": [
      "C:\\Users\\Ohoud\\anaconda3\\lib\\site-packages\\IPython\\core\\interactiveshell.py:3444: DtypeWarning: Columns (5,7) have mixed types.Specify dtype option on import or set low_memory=False.\n",
      "  exec(code_obj, self.user_global_ns, self.user_ns)\n"
     ]
    },
    {
     "data": {
      "text/html": [
       "<div>\n",
       "<style scoped>\n",
       "    .dataframe tbody tr th:only-of-type {\n",
       "        vertical-align: middle;\n",
       "    }\n",
       "\n",
       "    .dataframe tbody tr th {\n",
       "        vertical-align: top;\n",
       "    }\n",
       "\n",
       "    .dataframe thead th {\n",
       "        text-align: right;\n",
       "    }\n",
       "</style>\n",
       "<table border=\"1\" class=\"dataframe\">\n",
       "  <thead>\n",
       "    <tr style=\"text-align: right;\">\n",
       "      <th></th>\n",
       "      <th>ride_id</th>\n",
       "      <th>rideable_type</th>\n",
       "      <th>started_at</th>\n",
       "      <th>ended_at</th>\n",
       "      <th>start_station_name</th>\n",
       "      <th>start_station_id</th>\n",
       "      <th>end_station_name</th>\n",
       "      <th>end_station_id</th>\n",
       "      <th>start_lat</th>\n",
       "      <th>start_lng</th>\n",
       "      <th>end_lat</th>\n",
       "      <th>end_lng</th>\n",
       "      <th>member_casual</th>\n",
       "    </tr>\n",
       "  </thead>\n",
       "  <tbody>\n",
       "    <tr>\n",
       "      <th>0</th>\n",
       "      <td>7099F9531C9DA16D</td>\n",
       "      <td>docked_bike</td>\n",
       "      <td>2021-04-28 17:27:24</td>\n",
       "      <td>2021-04-28 17:34:31</td>\n",
       "      <td>DeKalb Ave &amp; Hudson Ave</td>\n",
       "      <td>4513.06</td>\n",
       "      <td>Douglass St &amp; 4 Ave</td>\n",
       "      <td>4175.14</td>\n",
       "      <td>40.689888</td>\n",
       "      <td>-73.981013</td>\n",
       "      <td>40.679279</td>\n",
       "      <td>-73.981540</td>\n",
       "      <td>member</td>\n",
       "    </tr>\n",
       "    <tr>\n",
       "      <th>1</th>\n",
       "      <td>EDC6F1B1A69A7863</td>\n",
       "      <td>docked_bike</td>\n",
       "      <td>2021-04-27 17:28:02</td>\n",
       "      <td>2021-04-27 17:33:07</td>\n",
       "      <td>E 47 St &amp; Park Ave</td>\n",
       "      <td>6584.12</td>\n",
       "      <td>W 52 St &amp; 6 Ave</td>\n",
       "      <td>6740.01</td>\n",
       "      <td>40.755102</td>\n",
       "      <td>-73.974986</td>\n",
       "      <td>40.761330</td>\n",
       "      <td>-73.979820</td>\n",
       "      <td>member</td>\n",
       "    </tr>\n",
       "    <tr>\n",
       "      <th>2</th>\n",
       "      <td>431A76830E10408A</td>\n",
       "      <td>docked_bike</td>\n",
       "      <td>2021-04-28 18:05:19</td>\n",
       "      <td>2021-04-28 18:10:48</td>\n",
       "      <td>E 47 St &amp; Park Ave</td>\n",
       "      <td>6584.12</td>\n",
       "      <td>W 52 St &amp; 6 Ave</td>\n",
       "      <td>6740.01</td>\n",
       "      <td>40.755102</td>\n",
       "      <td>-73.974986</td>\n",
       "      <td>40.761330</td>\n",
       "      <td>-73.979820</td>\n",
       "      <td>member</td>\n",
       "    </tr>\n",
       "    <tr>\n",
       "      <th>3</th>\n",
       "      <td>C00248A0ADC009FA</td>\n",
       "      <td>docked_bike</td>\n",
       "      <td>2021-04-20 21:35:47</td>\n",
       "      <td>2021-04-20 21:56:31</td>\n",
       "      <td>Irving Ave &amp; DeKalb Ave</td>\n",
       "      <td>4898.02</td>\n",
       "      <td>Division Ave &amp; Hooper St</td>\n",
       "      <td>5045.05</td>\n",
       "      <td>40.702700</td>\n",
       "      <td>-73.920950</td>\n",
       "      <td>40.706842</td>\n",
       "      <td>-73.954435</td>\n",
       "      <td>casual</td>\n",
       "    </tr>\n",
       "    <tr>\n",
       "      <th>4</th>\n",
       "      <td>BE78810D746EE516</td>\n",
       "      <td>docked_bike</td>\n",
       "      <td>2021-04-30 00:34:54</td>\n",
       "      <td>2021-04-30 01:03:29</td>\n",
       "      <td>3 Ave &amp; E 112 St</td>\n",
       "      <td>7543.15</td>\n",
       "      <td>E 115 St &amp; Lexington Ave</td>\n",
       "      <td>7599.09</td>\n",
       "      <td>40.795508</td>\n",
       "      <td>-73.941606</td>\n",
       "      <td>40.797911</td>\n",
       "      <td>-73.942300</td>\n",
       "      <td>casual</td>\n",
       "    </tr>\n",
       "  </tbody>\n",
       "</table>\n",
       "</div>"
      ],
      "text/plain": [
       "            ride_id rideable_type           started_at             ended_at  \\\n",
       "0  7099F9531C9DA16D   docked_bike  2021-04-28 17:27:24  2021-04-28 17:34:31   \n",
       "1  EDC6F1B1A69A7863   docked_bike  2021-04-27 17:28:02  2021-04-27 17:33:07   \n",
       "2  431A76830E10408A   docked_bike  2021-04-28 18:05:19  2021-04-28 18:10:48   \n",
       "3  C00248A0ADC009FA   docked_bike  2021-04-20 21:35:47  2021-04-20 21:56:31   \n",
       "4  BE78810D746EE516   docked_bike  2021-04-30 00:34:54  2021-04-30 01:03:29   \n",
       "\n",
       "        start_station_name start_station_id          end_station_name  \\\n",
       "0  DeKalb Ave & Hudson Ave          4513.06       Douglass St & 4 Ave   \n",
       "1       E 47 St & Park Ave          6584.12           W 52 St & 6 Ave   \n",
       "2       E 47 St & Park Ave          6584.12           W 52 St & 6 Ave   \n",
       "3  Irving Ave & DeKalb Ave          4898.02  Division Ave & Hooper St   \n",
       "4         3 Ave & E 112 St          7543.15  E 115 St & Lexington Ave   \n",
       "\n",
       "  end_station_id  start_lat  start_lng    end_lat    end_lng member_casual  \n",
       "0        4175.14  40.689888 -73.981013  40.679279 -73.981540        member  \n",
       "1        6740.01  40.755102 -73.974986  40.761330 -73.979820        member  \n",
       "2        6740.01  40.755102 -73.974986  40.761330 -73.979820        member  \n",
       "3        5045.05  40.702700 -73.920950  40.706842 -73.954435        casual  \n",
       "4        7599.09  40.795508 -73.941606  40.797911 -73.942300        casual  "
      ]
     },
     "execution_count": 23,
     "metadata": {},
     "output_type": "execute_result"
    }
   ],
   "source": [
    "# year 2021\n",
    "df_2021 = pd.read_csv(final_csv_2021);\n",
    "df_2021.head()"
   ]
  },
  {
   "cell_type": "markdown",
   "metadata": {},
   "source": [
    "#### General Properties"
   ]
  },
  {
   "cell_type": "markdown",
   "metadata": {},
   "source": [
    "Print a summary of data columns."
   ]
  },
  {
   "cell_type": "markdown",
   "metadata": {},
   "source": [
    "- year 2020"
   ]
  },
  {
   "cell_type": "code",
   "execution_count": 24,
   "metadata": {},
   "outputs": [
    {
     "name": "stdout",
     "output_type": "stream",
     "text": [
      "<class 'pandas.core.frame.DataFrame'>\n",
      "RangeIndex: 4052925 entries, 0 to 4052924\n",
      "Data columns (total 15 columns):\n",
      " #   Column                   Dtype  \n",
      "---  ------                   -----  \n",
      " 0   tripduration             int64  \n",
      " 1   starttime                object \n",
      " 2   stoptime                 object \n",
      " 3   start station id         int64  \n",
      " 4   start station name       object \n",
      " 5   start station latitude   float64\n",
      " 6   start station longitude  float64\n",
      " 7   end station id           int64  \n",
      " 8   end station name         object \n",
      " 9   end station latitude     float64\n",
      " 10  end station longitude    float64\n",
      " 11  bikeid                   int64  \n",
      " 12  usertype                 object \n",
      " 13  birth year               int64  \n",
      " 14  gender                   int64  \n",
      "dtypes: float64(4), int64(6), object(5)\n",
      "memory usage: 463.8+ MB\n"
     ]
    }
   ],
   "source": [
    "# Print a summary of data columns\n",
    "df_2020.info()"
   ]
  },
  {
   "cell_type": "markdown",
   "metadata": {},
   "source": [
    "- year 2021"
   ]
  },
  {
   "cell_type": "code",
   "execution_count": 25,
   "metadata": {},
   "outputs": [
    {
     "name": "stdout",
     "output_type": "stream",
     "text": [
      "<class 'pandas.core.frame.DataFrame'>\n",
      "RangeIndex: 7969351 entries, 0 to 7969350\n",
      "Data columns (total 13 columns):\n",
      " #   Column              Dtype  \n",
      "---  ------              -----  \n",
      " 0   ride_id             object \n",
      " 1   rideable_type       object \n",
      " 2   started_at          object \n",
      " 3   ended_at            object \n",
      " 4   start_station_name  object \n",
      " 5   start_station_id    object \n",
      " 6   end_station_name    object \n",
      " 7   end_station_id      object \n",
      " 8   start_lat           float64\n",
      " 9   start_lng           float64\n",
      " 10  end_lat             float64\n",
      " 11  end_lng             float64\n",
      " 12  member_casual       object \n",
      "dtypes: float64(4), object(9)\n",
      "memory usage: 790.4+ MB\n"
     ]
    }
   ],
   "source": [
    "# year 2021\n",
    "df_2021.info()"
   ]
  },
  {
   "cell_type": "markdown",
   "metadata": {},
   "source": [
    "Check duplicate data."
   ]
  },
  {
   "cell_type": "code",
   "execution_count": 26,
   "metadata": {},
   "outputs": [
    {
     "name": "stdout",
     "output_type": "stream",
     "text": [
      "Duplicate data of 2020:  0\n",
      "Duplicate data of 2021:  0\n"
     ]
    }
   ],
   "source": [
    "print('Duplicate data of 2020: ',df_2020.duplicated().sum(),)\n",
    "print('Duplicate data of 2021: ',df_2021.duplicated().sum())"
   ]
  },
  {
   "cell_type": "markdown",
   "metadata": {},
   "source": [
    "Check missing data."
   ]
  },
  {
   "cell_type": "code",
   "execution_count": 27,
   "metadata": {},
   "outputs": [
    {
     "name": "stdout",
     "output_type": "stream",
     "text": [
      "Missing data of 2020:  False\n",
      "Missing data of 2021:  True\n"
     ]
    }
   ],
   "source": [
    "# Check if columns have missing data.\n",
    "print('Missing data of 2020: ',(df_2020.isna().sum() > 0).any(),)\n",
    "print('Missing data of 2021: ',(df_2021.isna().sum() > 0).any())"
   ]
  },
  {
   "cell_type": "code",
   "execution_count": 28,
   "metadata": {},
   "outputs": [
    {
     "data": {
      "text/plain": [
       "ride_id                   0\n",
       "rideable_type             0\n",
       "started_at                0\n",
       "ended_at                  0\n",
       "start_station_name      368\n",
       "start_station_id        368\n",
       "end_station_name      19278\n",
       "end_station_id        19278\n",
       "start_lat                 0\n",
       "start_lng                 0\n",
       "end_lat               17021\n",
       "end_lng               17021\n",
       "member_casual             0\n",
       "dtype: int64"
      ]
     },
     "execution_count": 28,
     "metadata": {},
     "output_type": "execute_result"
    }
   ],
   "source": [
    "# missing data of 2021\n",
    "df_2021.isna().sum()"
   ]
  },
  {
   "cell_type": "markdown",
   "metadata": {},
   "source": [
    "#### Data Cleaning"
   ]
  },
  {
   "cell_type": "markdown",
   "metadata": {},
   "source": [
    "The two datasets contains the same information but with different names.<br>\n",
    "  - Column names<br>\n",
    "  &nbsp;&nbsp; ex. in 2020, \"starttime\" column represents trip start time. It exists in 2021 but with different name 'started_at'.<br>\n",
    "  - Column values <br>\n",
    "    &nbsp;&nbsp; - 'usertype' and 'member_casual' Columns<br>\n",
    "          'usertype' in 2020 dataset represent the user type.\n",
    "          'member_casual' in 2021 datset represnts from which price plan, the ride made.\n",
    "    \n",
    "      &nbsp;&nbsp;&nbsp;&nbsp;&nbsp;They hold the same meaning but with different values:<br> \n",
    "         'usertype': (Customer, Subscriber)\n",
    "         'member_casual': (Casual, Member)\n",
    "      \n",
    "       &nbsp;&nbsp;&nbsp;&nbsp;&nbsp;&nbsp;According to their website https://ride.citibikenyc.com/system-data,<br> &nbsp;&nbsp;&nbsp;&nbsp;&nbsp;(Customer/Casual = 24-hour pass or 3-day pass user; Subscriber/Member = Annual Member).<br>\n",
    "       \n",
    "    **For data standardization and reducing distraction, we update 2020 dataformat to 2021 dataformat \"the new data format\".** "
   ]
  },
  {
   "cell_type": "markdown",
   "metadata": {},
   "source": [
    "Missing data."
   ]
  },
  {
   "cell_type": "code",
   "execution_count": 29,
   "metadata": {},
   "outputs": [],
   "source": [
    "# Only 2021 dataset contains missing data.\n",
    "#  Compared to the number of rows of 2021 dataset, decided to drop these rows.\n",
    "df_2021 = df_2021.dropna()"
   ]
  },
  {
   "cell_type": "markdown",
   "metadata": {},
   "source": [
    "Update Column values"
   ]
  },
  {
   "cell_type": "code",
   "execution_count": 30,
   "metadata": {},
   "outputs": [],
   "source": [
    "# Change 'usertype' values to 'member_casual' dataformat in df_2020.\n",
    "df_2020[\"usertype\"].replace({\"Customer\": \"Casual\", \"Subscriber\": \"Member\"}, inplace=True)\n",
    "\n",
    "# Change 'gender' numeric values to the corresponding category name (Zero=unknown; 1=male; 2=female) in df_2020.\n",
    "df_2020[\"gender\"].replace({0: \"Unknown\", 1: \"Male\", 2: \"Female\"}, inplace=True)\n",
    "\n",
    "# Capitalize 'member_casual' column values in df_2021.\n",
    "df_2021['member_casual'] = df_2021['member_casual'].str.capitalize()"
   ]
  },
  {
   "cell_type": "code",
   "execution_count": 31,
   "metadata": {},
   "outputs": [],
   "source": [
    "# Remove repeated words\n",
    "#  'rideable_type' has '_bike' word in all column values in df_2021.\n",
    "df_2021['rideable_type'] = df_2021['rideable_type'].str.replace(r'_bike', '').str.capitalize()"
   ]
  },
  {
   "cell_type": "markdown",
   "metadata": {},
   "source": [
    "Rename Columns"
   ]
  },
  {
   "cell_type": "code",
   "execution_count": 32,
   "metadata": {},
   "outputs": [],
   "source": [
    "# Rename 2020 Columns to 2021 data format\n",
    "df_2020.rename(columns={'starttime': 'started_at', 'stoptime': 'ended_at',\n",
    "                          'end station id': 'end_station_id', 'start station id': 'start_station_id',\n",
    "                          'start station latitude': 'start_lat', 'start station longitude': 'start_lng',\n",
    "                          'end station latitude': 'end_lat', 'end station longitude': 'end_lng',\n",
    "                         'start station name': 'start_station_name', 'end station name': 'end_station_name',\n",
    "                         'usertype':'member_casual'}, inplace=True)\n",
    "\n",
    "# Rename 'rideable_type' to 'bike_type' to be clear in df_2021.\n",
    "df_2021.rename(columns={'rideable_type': 'bike_type'}, inplace=True)"
   ]
  },
  {
   "cell_type": "markdown",
   "metadata": {},
   "source": [
    "Drop Columns"
   ]
  },
  {
   "cell_type": "code",
   "execution_count": 33,
   "metadata": {},
   "outputs": [],
   "source": [
    "# Drop columns not used in this analysis.\n",
    "#   uncommon columns\n",
    "df_2020.drop(['bikeid','birth year','tripduration'], axis=1, inplace=True)\n",
    "df_2021.drop(['ride_id'], axis=1, inplace=True)\n",
    "#   common columns\n",
    "unused_cols = ['start_lat','start_lng','end_lat','end_lng','start_station_id','end_station_id','end_station_name']\n",
    "df_2020.drop(unused_cols, axis=1, inplace=True)\n",
    "df_2021.drop(unused_cols, axis=1, inplace=True)"
   ]
  },
  {
   "cell_type": "markdown",
   "metadata": {},
   "source": [
    "Columns Updates"
   ]
  },
  {
   "cell_type": "code",
   "execution_count": 34,
   "metadata": {},
   "outputs": [],
   "source": [
    "# Apply some updates to 2020 and 2021 dataframes\n",
    "#  Updates:\n",
    "#     1. Cast column to an appropriate dtype\n",
    "#     2. Extract some data which will be used in the analysis.\n",
    "df_2020 = df_updates(df_2020)\n",
    "df_2021 = df_updates(df_2021)"
   ]
  },
  {
   "cell_type": "code",
   "execution_count": 35,
   "metadata": {},
   "outputs": [],
   "source": [
    "# save final dataframes to new csv files.\n",
    "df_2020.to_csv('citibike_f2020.csv',  index=False, encoding = 'utf-8')\n",
    "df_2021.to_csv('citibike_f2021.csv',  index=False, encoding = 'utf-8')"
   ]
  },
  {
   "cell_type": "code",
   "execution_count": 36,
   "metadata": {},
   "outputs": [],
   "source": [
    "# read final data will be used in this analysis.\n",
    "df_f2020 = pd.read_csv('citibike_f2020.csv')\n",
    "df_f2021 = pd.read_csv('citibike_f2021.csv')"
   ]
  },
  {
   "cell_type": "markdown",
   "metadata": {},
   "source": [
    "View details and print few rows of final dataframes"
   ]
  },
  {
   "cell_type": "markdown",
   "metadata": {},
   "source": [
    "- year 2020"
   ]
  },
  {
   "cell_type": "code",
   "execution_count": 37,
   "metadata": {},
   "outputs": [
    {
     "name": "stdout",
     "output_type": "stream",
     "text": [
      "(4052925, 9)\n"
     ]
    },
    {
     "data": {
      "text/html": [
       "<div>\n",
       "<style scoped>\n",
       "    .dataframe tbody tr th:only-of-type {\n",
       "        vertical-align: middle;\n",
       "    }\n",
       "\n",
       "    .dataframe tbody tr th {\n",
       "        vertical-align: top;\n",
       "    }\n",
       "\n",
       "    .dataframe thead th {\n",
       "        text-align: right;\n",
       "    }\n",
       "</style>\n",
       "<table border=\"1\" class=\"dataframe\">\n",
       "  <thead>\n",
       "    <tr style=\"text-align: right;\">\n",
       "      <th></th>\n",
       "      <th>started_at</th>\n",
       "      <th>ended_at</th>\n",
       "      <th>start_station_name</th>\n",
       "      <th>member_casual</th>\n",
       "      <th>gender</th>\n",
       "      <th>start_hour</th>\n",
       "      <th>start_day</th>\n",
       "      <th>start_month</th>\n",
       "      <th>duration_min</th>\n",
       "    </tr>\n",
       "  </thead>\n",
       "  <tbody>\n",
       "    <tr>\n",
       "      <th>0</th>\n",
       "      <td>2020-04-01 00:00:15.280</td>\n",
       "      <td>2020-04-01 00:09:09.873</td>\n",
       "      <td>E 2 St &amp; Avenue A</td>\n",
       "      <td>Member</td>\n",
       "      <td>Female</td>\n",
       "      <td>0</td>\n",
       "      <td>Wednesday</td>\n",
       "      <td>April</td>\n",
       "      <td>8.909883</td>\n",
       "    </tr>\n",
       "    <tr>\n",
       "      <th>1</th>\n",
       "      <td>2020-04-01 00:02:28.943</td>\n",
       "      <td>2020-04-01 00:11:18.341</td>\n",
       "      <td>Central Park West &amp; W 68 St</td>\n",
       "      <td>Member</td>\n",
       "      <td>Male</td>\n",
       "      <td>0</td>\n",
       "      <td>Wednesday</td>\n",
       "      <td>April</td>\n",
       "      <td>8.823300</td>\n",
       "    </tr>\n",
       "    <tr>\n",
       "      <th>2</th>\n",
       "      <td>2020-04-01 00:02:56.090</td>\n",
       "      <td>2020-04-01 00:27:44.253</td>\n",
       "      <td>Columbus Ave &amp; W 72 St</td>\n",
       "      <td>Member</td>\n",
       "      <td>Male</td>\n",
       "      <td>0</td>\n",
       "      <td>Wednesday</td>\n",
       "      <td>April</td>\n",
       "      <td>24.802717</td>\n",
       "    </tr>\n",
       "    <tr>\n",
       "      <th>3</th>\n",
       "      <td>2020-04-01 00:03:25.141</td>\n",
       "      <td>2020-04-01 00:09:06.319</td>\n",
       "      <td>Halsey St &amp; Broadway</td>\n",
       "      <td>Member</td>\n",
       "      <td>Male</td>\n",
       "      <td>0</td>\n",
       "      <td>Wednesday</td>\n",
       "      <td>April</td>\n",
       "      <td>5.686300</td>\n",
       "    </tr>\n",
       "    <tr>\n",
       "      <th>4</th>\n",
       "      <td>2020-04-01 00:05:35.279</td>\n",
       "      <td>2020-04-01 00:42:21.908</td>\n",
       "      <td>Grove St &amp; Broadway</td>\n",
       "      <td>Member</td>\n",
       "      <td>Male</td>\n",
       "      <td>0</td>\n",
       "      <td>Wednesday</td>\n",
       "      <td>April</td>\n",
       "      <td>36.777150</td>\n",
       "    </tr>\n",
       "  </tbody>\n",
       "</table>\n",
       "</div>"
      ],
      "text/plain": [
       "                started_at                 ended_at  \\\n",
       "0  2020-04-01 00:00:15.280  2020-04-01 00:09:09.873   \n",
       "1  2020-04-01 00:02:28.943  2020-04-01 00:11:18.341   \n",
       "2  2020-04-01 00:02:56.090  2020-04-01 00:27:44.253   \n",
       "3  2020-04-01 00:03:25.141  2020-04-01 00:09:06.319   \n",
       "4  2020-04-01 00:05:35.279  2020-04-01 00:42:21.908   \n",
       "\n",
       "            start_station_name member_casual  gender  start_hour  start_day  \\\n",
       "0            E 2 St & Avenue A        Member  Female           0  Wednesday   \n",
       "1  Central Park West & W 68 St        Member    Male           0  Wednesday   \n",
       "2       Columbus Ave & W 72 St        Member    Male           0  Wednesday   \n",
       "3         Halsey St & Broadway        Member    Male           0  Wednesday   \n",
       "4          Grove St & Broadway        Member    Male           0  Wednesday   \n",
       "\n",
       "  start_month  duration_min  \n",
       "0       April      8.909883  \n",
       "1       April      8.823300  \n",
       "2       April     24.802717  \n",
       "3       April      5.686300  \n",
       "4       April     36.777150  "
      ]
     },
     "execution_count": 37,
     "metadata": {},
     "output_type": "execute_result"
    }
   ],
   "source": [
    "print(df_f2020.shape)\n",
    "df_f2020.head()"
   ]
  },
  {
   "cell_type": "code",
   "execution_count": 38,
   "metadata": {},
   "outputs": [
    {
     "data": {
      "text/html": [
       "<div>\n",
       "<style scoped>\n",
       "    .dataframe tbody tr th:only-of-type {\n",
       "        vertical-align: middle;\n",
       "    }\n",
       "\n",
       "    .dataframe tbody tr th {\n",
       "        vertical-align: top;\n",
       "    }\n",
       "\n",
       "    .dataframe thead th {\n",
       "        text-align: right;\n",
       "    }\n",
       "</style>\n",
       "<table border=\"1\" class=\"dataframe\">\n",
       "  <thead>\n",
       "    <tr style=\"text-align: right;\">\n",
       "      <th></th>\n",
       "      <th>start_hour</th>\n",
       "      <th>duration_min</th>\n",
       "    </tr>\n",
       "  </thead>\n",
       "  <tbody>\n",
       "    <tr>\n",
       "      <th>count</th>\n",
       "      <td>4.052925e+06</td>\n",
       "      <td>4.052925e+06</td>\n",
       "    </tr>\n",
       "    <tr>\n",
       "      <th>mean</th>\n",
       "      <td>1.463445e+01</td>\n",
       "      <td>2.720940e+01</td>\n",
       "    </tr>\n",
       "    <tr>\n",
       "      <th>std</th>\n",
       "      <td>4.318855e+00</td>\n",
       "      <td>2.413506e+02</td>\n",
       "    </tr>\n",
       "    <tr>\n",
       "      <th>min</th>\n",
       "      <td>0.000000e+00</td>\n",
       "      <td>1.016667e+00</td>\n",
       "    </tr>\n",
       "    <tr>\n",
       "      <th>25%</th>\n",
       "      <td>1.200000e+01</td>\n",
       "      <td>8.947533e+00</td>\n",
       "    </tr>\n",
       "    <tr>\n",
       "      <th>50%</th>\n",
       "      <td>1.500000e+01</td>\n",
       "      <td>1.739685e+01</td>\n",
       "    </tr>\n",
       "    <tr>\n",
       "      <th>75%</th>\n",
       "      <td>1.800000e+01</td>\n",
       "      <td>2.894385e+01</td>\n",
       "    </tr>\n",
       "    <tr>\n",
       "      <th>max</th>\n",
       "      <td>2.300000e+01</td>\n",
       "      <td>6.310312e+04</td>\n",
       "    </tr>\n",
       "  </tbody>\n",
       "</table>\n",
       "</div>"
      ],
      "text/plain": [
       "         start_hour  duration_min\n",
       "count  4.052925e+06  4.052925e+06\n",
       "mean   1.463445e+01  2.720940e+01\n",
       "std    4.318855e+00  2.413506e+02\n",
       "min    0.000000e+00  1.016667e+00\n",
       "25%    1.200000e+01  8.947533e+00\n",
       "50%    1.500000e+01  1.739685e+01\n",
       "75%    1.800000e+01  2.894385e+01\n",
       "max    2.300000e+01  6.310312e+04"
      ]
     },
     "execution_count": 38,
     "metadata": {},
     "output_type": "execute_result"
    }
   ],
   "source": [
    "df_f2020.describe()"
   ]
  },
  {
   "cell_type": "markdown",
   "metadata": {},
   "source": [
    "- year 2021"
   ]
  },
  {
   "cell_type": "code",
   "execution_count": 39,
   "metadata": {},
   "outputs": [
    {
     "name": "stdout",
     "output_type": "stream",
     "text": [
      "(7950063, 9)\n"
     ]
    },
    {
     "data": {
      "text/html": [
       "<div>\n",
       "<style scoped>\n",
       "    .dataframe tbody tr th:only-of-type {\n",
       "        vertical-align: middle;\n",
       "    }\n",
       "\n",
       "    .dataframe tbody tr th {\n",
       "        vertical-align: top;\n",
       "    }\n",
       "\n",
       "    .dataframe thead th {\n",
       "        text-align: right;\n",
       "    }\n",
       "</style>\n",
       "<table border=\"1\" class=\"dataframe\">\n",
       "  <thead>\n",
       "    <tr style=\"text-align: right;\">\n",
       "      <th></th>\n",
       "      <th>bike_type</th>\n",
       "      <th>started_at</th>\n",
       "      <th>ended_at</th>\n",
       "      <th>start_station_name</th>\n",
       "      <th>member_casual</th>\n",
       "      <th>start_hour</th>\n",
       "      <th>start_day</th>\n",
       "      <th>start_month</th>\n",
       "      <th>duration_min</th>\n",
       "    </tr>\n",
       "  </thead>\n",
       "  <tbody>\n",
       "    <tr>\n",
       "      <th>0</th>\n",
       "      <td>Docked</td>\n",
       "      <td>2021-04-28 17:27:24</td>\n",
       "      <td>2021-04-28 17:34:31</td>\n",
       "      <td>DeKalb Ave &amp; Hudson Ave</td>\n",
       "      <td>Member</td>\n",
       "      <td>17</td>\n",
       "      <td>Wednesday</td>\n",
       "      <td>April</td>\n",
       "      <td>7.116667</td>\n",
       "    </tr>\n",
       "    <tr>\n",
       "      <th>1</th>\n",
       "      <td>Docked</td>\n",
       "      <td>2021-04-27 17:28:02</td>\n",
       "      <td>2021-04-27 17:33:07</td>\n",
       "      <td>E 47 St &amp; Park Ave</td>\n",
       "      <td>Member</td>\n",
       "      <td>17</td>\n",
       "      <td>Tuesday</td>\n",
       "      <td>April</td>\n",
       "      <td>5.083333</td>\n",
       "    </tr>\n",
       "    <tr>\n",
       "      <th>2</th>\n",
       "      <td>Docked</td>\n",
       "      <td>2021-04-28 18:05:19</td>\n",
       "      <td>2021-04-28 18:10:48</td>\n",
       "      <td>E 47 St &amp; Park Ave</td>\n",
       "      <td>Member</td>\n",
       "      <td>18</td>\n",
       "      <td>Wednesday</td>\n",
       "      <td>April</td>\n",
       "      <td>5.483333</td>\n",
       "    </tr>\n",
       "    <tr>\n",
       "      <th>3</th>\n",
       "      <td>Docked</td>\n",
       "      <td>2021-04-20 21:35:47</td>\n",
       "      <td>2021-04-20 21:56:31</td>\n",
       "      <td>Irving Ave &amp; DeKalb Ave</td>\n",
       "      <td>Casual</td>\n",
       "      <td>21</td>\n",
       "      <td>Tuesday</td>\n",
       "      <td>April</td>\n",
       "      <td>20.733333</td>\n",
       "    </tr>\n",
       "    <tr>\n",
       "      <th>4</th>\n",
       "      <td>Docked</td>\n",
       "      <td>2021-04-30 00:34:54</td>\n",
       "      <td>2021-04-30 01:03:29</td>\n",
       "      <td>3 Ave &amp; E 112 St</td>\n",
       "      <td>Casual</td>\n",
       "      <td>0</td>\n",
       "      <td>Friday</td>\n",
       "      <td>April</td>\n",
       "      <td>28.583333</td>\n",
       "    </tr>\n",
       "  </tbody>\n",
       "</table>\n",
       "</div>"
      ],
      "text/plain": [
       "  bike_type           started_at             ended_at  \\\n",
       "0    Docked  2021-04-28 17:27:24  2021-04-28 17:34:31   \n",
       "1    Docked  2021-04-27 17:28:02  2021-04-27 17:33:07   \n",
       "2    Docked  2021-04-28 18:05:19  2021-04-28 18:10:48   \n",
       "3    Docked  2021-04-20 21:35:47  2021-04-20 21:56:31   \n",
       "4    Docked  2021-04-30 00:34:54  2021-04-30 01:03:29   \n",
       "\n",
       "        start_station_name member_casual  start_hour  start_day start_month  \\\n",
       "0  DeKalb Ave & Hudson Ave        Member          17  Wednesday       April   \n",
       "1       E 47 St & Park Ave        Member          17    Tuesday       April   \n",
       "2       E 47 St & Park Ave        Member          18  Wednesday       April   \n",
       "3  Irving Ave & DeKalb Ave        Casual          21    Tuesday       April   \n",
       "4         3 Ave & E 112 St        Casual           0     Friday       April   \n",
       "\n",
       "   duration_min  \n",
       "0      7.116667  \n",
       "1      5.083333  \n",
       "2      5.483333  \n",
       "3     20.733333  \n",
       "4     28.583333  "
      ]
     },
     "execution_count": 39,
     "metadata": {},
     "output_type": "execute_result"
    }
   ],
   "source": [
    "print(df_f2021.shape)\n",
    "df_f2021.head()"
   ]
  },
  {
   "cell_type": "code",
   "execution_count": 40,
   "metadata": {},
   "outputs": [
    {
     "data": {
      "text/html": [
       "<div>\n",
       "<style scoped>\n",
       "    .dataframe tbody tr th:only-of-type {\n",
       "        vertical-align: middle;\n",
       "    }\n",
       "\n",
       "    .dataframe tbody tr th {\n",
       "        vertical-align: top;\n",
       "    }\n",
       "\n",
       "    .dataframe thead th {\n",
       "        text-align: right;\n",
       "    }\n",
       "</style>\n",
       "<table border=\"1\" class=\"dataframe\">\n",
       "  <thead>\n",
       "    <tr style=\"text-align: right;\">\n",
       "      <th></th>\n",
       "      <th>start_hour</th>\n",
       "      <th>duration_min</th>\n",
       "    </tr>\n",
       "  </thead>\n",
       "  <tbody>\n",
       "    <tr>\n",
       "      <th>count</th>\n",
       "      <td>7.950063e+06</td>\n",
       "      <td>7.950063e+06</td>\n",
       "    </tr>\n",
       "    <tr>\n",
       "      <th>mean</th>\n",
       "      <td>1.425326e+01</td>\n",
       "      <td>1.825809e+01</td>\n",
       "    </tr>\n",
       "    <tr>\n",
       "      <th>std</th>\n",
       "      <td>4.954814e+00</td>\n",
       "      <td>1.747586e+02</td>\n",
       "    </tr>\n",
       "    <tr>\n",
       "      <th>min</th>\n",
       "      <td>0.000000e+00</td>\n",
       "      <td>-9.317100e+03</td>\n",
       "    </tr>\n",
       "    <tr>\n",
       "      <th>25%</th>\n",
       "      <td>1.100000e+01</td>\n",
       "      <td>6.316667e+00</td>\n",
       "    </tr>\n",
       "    <tr>\n",
       "      <th>50%</th>\n",
       "      <td>1.500000e+01</td>\n",
       "      <td>1.143333e+01</td>\n",
       "    </tr>\n",
       "    <tr>\n",
       "      <th>75%</th>\n",
       "      <td>1.800000e+01</td>\n",
       "      <td>2.038333e+01</td>\n",
       "    </tr>\n",
       "    <tr>\n",
       "      <th>max</th>\n",
       "      <td>2.300000e+01</td>\n",
       "      <td>8.303737e+04</td>\n",
       "    </tr>\n",
       "  </tbody>\n",
       "</table>\n",
       "</div>"
      ],
      "text/plain": [
       "         start_hour  duration_min\n",
       "count  7.950063e+06  7.950063e+06\n",
       "mean   1.425326e+01  1.825809e+01\n",
       "std    4.954814e+00  1.747586e+02\n",
       "min    0.000000e+00 -9.317100e+03\n",
       "25%    1.100000e+01  6.316667e+00\n",
       "50%    1.500000e+01  1.143333e+01\n",
       "75%    1.800000e+01  2.038333e+01\n",
       "max    2.300000e+01  8.303737e+04"
      ]
     },
     "execution_count": 40,
     "metadata": {},
     "output_type": "execute_result"
    }
   ],
   "source": [
    "df_f2021.describe()"
   ]
  },
  {
   "cell_type": "markdown",
   "metadata": {},
   "source": [
    "From above statistics of years 2020 and 2021 data:\n",
    "1. In 2020, 75% of trip duration values were less than '28.94385' minutes. when looked at the maximum value, it was '63103.12' min that means there are some trips taken days.\n",
    "2. In 2021, 75% of trip duration values were less than '20.41667' minutes. when looked at the maximum value, it was '83037.37' min that means there are some trips taken days."
   ]
  },
  {
   "cell_type": "markdown",
   "metadata": {},
   "source": [
    "### What is the structure of your dataset?\n",
    "\n",
    "The 2020 dataset contains 4,052,925 rows.<br>\n",
    "The 2021 dataset contains 7,950,063 rows.\n",
    "> Both of datasets includes<br>\n",
    "   &nbsp;&nbsp; - ‘started_at’ - start date and time.<br>\n",
    "   &nbsp;&nbsp; - ‘ended_at’ - end date and time.<br>\n",
    "   &nbsp;&nbsp; - ‘start_station_name’ - start station name.<br>\n",
    "   &nbsp;&nbsp; - ‘member_casual’ - member or casual ride.<br>\n",
    "   &nbsp;&nbsp; - ‘start_hour’ - starting hour.<br>\n",
    "   &nbsp;&nbsp; - ‘start_day_week’ - day of start date.<br>\n",
    "   &nbsp;&nbsp; - ‘start_month’ - month of start date.<br>\n",
    "   &nbsp;&nbsp; - ‘duration_min’ - trip duration in minutes.<br>\n",
    "\n",
    "> Each dataset has its own extra variables:<br>\n",
    "    &nbsp;&nbsp; In 2020: ‘gender’ - user gender.<br>\n",
    "    &nbsp;&nbsp; In 2021: ‘bike_type’ - bike type used in the trip.\n",
    "<br><br>\n",
    "\n",
    "### What is/are the main feature(s) of interest in your dataset?\n",
    "\n",
    "> I'm interested in investigating about trip duration and the usage of Citibike system depending on some factors during the second quarter of years 2021 and 2020. \n",
    "\n",
    "> Here are some questions that can help in the comparison between 2020 and 2021:<br>\n",
    "      &nbsp;&nbsp; - How many trips made in the system?<br>\n",
    "      &nbsp;&nbsp; - Which user made the most trips?<br>\n",
    "      &nbsp;&nbsp; - What times of the days does the system get the most usage?<br>\n",
    "      &nbsp;&nbsp; - How long does the average trip take?<br>\n",
    "      &nbsp;&nbsp; - When are most trips taken in terms month?<br>\n",
    "      &nbsp;&nbsp; - What's the average of trip duration taken by users?<br>\n",
    "      &nbsp;&nbsp; - Is there a relation between trip duration and day of the week? <br>\n",
    "      &nbsp;&nbsp; - Which times of the day users take more time in their trips?<br> \n",
    "      \n",
    "> Here are some questions that can help dive deeper into each year's data separately:<br>\n",
    "      &nbsp;&nbsp; - Who uses Citibike system more male or female in 2020?<br>\n",
    "      &nbsp;&nbsp; - What's the most used bike in 2021?<br>\n",
    "      &nbsp;&nbsp; - How gender and user type affect the trip duration in 2020?<br>\n",
    "      &nbsp;&nbsp; - Is the trip duration affected by the types of user and bikes in 2021?<br>\n",
    "\n",
    "\n",
    "### What features in the dataset do you think will help support your investigation into your feature(s) of interest?\n",
    "\n",
    "> Trip Duration (minutes), Start hour, Start Day, Start Month,Gender,Bike Type, Member or Casual and Start Station."
   ]
  },
  {
   "cell_type": "markdown",
   "metadata": {},
   "source": [
    "##### Exploration Functions\n",
    "> Create format_number(),num_col_ticks(),pie_chart(), box_plot(), hist() and count_plot() functions to reduce repetitive code in data visualization step."
   ]
  },
  {
   "cell_type": "code",
   "execution_count": 41,
   "metadata": {},
   "outputs": [],
   "source": [
    "def format_number(value):\n",
    "    '''\n",
    "    Format number to thousands and millions suffix.\n",
    "      Parameters:\n",
    "         value (integer): number value.\n",
    "      Returns:\n",
    "         result (string): value with thousands/millions suffix.\n",
    "    '''\n",
    "    result = value\n",
    "    if value >= 1000000:\n",
    "        result = '{:1.1f}M'.format(value*0.000_001)\n",
    "    elif value >= 1000:\n",
    "        result = '{:1.0f}K'.format(value*0.001)\n",
    "    return result"
   ]
  },
  {
   "cell_type": "code",
   "execution_count": 42,
   "metadata": {},
   "outputs": [],
   "source": [
    "def num_col_ticks(range_stop,range_step,extra_value):\n",
    "    '''\n",
    "    change ticks range and labels of number columns.\n",
    "      Parameters:\n",
    "         range_stop (number): end of range.\n",
    "         range_step (number): spacing between values.\n",
    "         extra_value (number): extra value.\n",
    "      Returns:\n",
    "         tuple: contains ticks_range and ticks_labels.\n",
    "    '''\n",
    "    # ticks range and labels.\n",
    "    ticks_range = np.arange(start=0, stop=range_stop+extra_value, step=range_step)\n",
    "    ticks_labels = list(map(lambda v: format_number(v),ticks_range))\n",
    "    return (ticks_range,ticks_labels)"
   ]
  },
  {
   "cell_type": "code",
   "execution_count": 43,
   "metadata": {},
   "outputs": [],
   "source": [
    "def pie_chart(df_col,chart_title,title_loc):\n",
    "    '''\n",
    "    Generate pie chart of a varaible.\n",
    "      Parameters:\n",
    "         df_col (pandas Series): contains column values from dataframe.\n",
    "         chart_title (string): title of pie chart.\n",
    "    '''\n",
    "    # Get Count of each value in df_col\n",
    "    value_counts = df_col.value_counts()\n",
    "    labels = list(map(lambda v: v.capitalize(),list(value_counts.index)))\n",
    "    # Plot the data\n",
    "    plt.pie(value_counts,startangle = 90,textprops = {\"fontsize\":12},labels=labels,labeldistance=None, counterclock = False,autopct='%1.02f%%');\n",
    "    # Make Pie Chart looking a circle.\n",
    "    plt.axis('square')\n",
    "    # Set Chart title\n",
    "    plt.title(chart_title,size=14, pad=5,loc=title_loc)"
   ]
  },
  {
   "cell_type": "code",
   "execution_count": 44,
   "metadata": {},
   "outputs": [],
   "source": [
    "def box_plot(df_data,x,y,chart_title,bs_color=None,ylim=100,xlabel='',x_order=None,ylabel='',x_rot_deg=0):\n",
    "    '''\n",
    "    Generate box plot.\n",
    "      Parameters:\n",
    "         df_data (pandas dataframe): contains data.\n",
    "         x (string): x_axis column name.\n",
    "         y (string): y_axis column name.\n",
    "         chart_title (string): chart title.\n",
    "         xlabel (string): x_axis label.\n",
    "         ylabel (string): y_axis label.\n",
    "         ylim (integer): y_axis limit.\n",
    "         base_color (string): plot base color.\n",
    "         x_rot_deg (integer): axes label.\n",
    "    '''\n",
    "    if bs_color is None:\n",
    "        g = sb.boxplot(data=df_data, x=x, y=y,order=x_order);\n",
    "    else: \n",
    "        g = sb.boxplot(data=df_data, x=x, y=y, color=bs_color,order=x_order);\n",
    "    plt.ylim(0, ylim);\n",
    "    plt.xlabel(xlabel)\n",
    "    plt.ylabel(ylabel)\n",
    "    plt.xticks(rotation=x_rot_deg) \n",
    "    plt.title(chart_title)"
   ]
  },
  {
   "cell_type": "code",
   "execution_count": 45,
   "metadata": {},
   "outputs": [],
   "source": [
    "def hist(df_data,x_col,hist_title,bins_edges,xscale='',xlim=0,xticks=[],xlabels=[]):\n",
    "    '''\n",
    "     Generate histogram.\n",
    "      Parameters:\n",
    "         df_data (pandas dataframe): contains data.\n",
    "         x_col (string): x_axis column name.\n",
    "         hist_title (string): histogram title.\n",
    "         bins_edges (list): list of histogram bins.\n",
    "         xlim (integer): x_axis limit.\n",
    "         xticks (list): xticks range.\n",
    "         xlabels (list): xticks labels.\n",
    "    '''\n",
    "    plt.hist(data = df_data, x = x_col, bins = bins_edges);\n",
    "    if xlim != 0 :\n",
    "        plt.xlim(0, 500);\n",
    "    if xscale != '':\n",
    "        plt.xscale(xscale);\n",
    "    if len(xticks) and len(xlabels) > 0:\n",
    "        plt.xticks(xticks,xlabels);\n",
    "    plt.title(hist_title)"
   ]
  },
  {
   "cell_type": "code",
   "execution_count": 46,
   "metadata": {},
   "outputs": [],
   "source": [
    "def count_plot(ax_indx,df_data,x_col,plot_title,title_loc,bs_color,ticks_step,extra_value):\n",
    "    '''\n",
    "     Generate count plot.\n",
    "      Parameters:\n",
    "         ax_indx(integer): plot index in figure.\n",
    "         df_data (pandas dataframe): contains data.\n",
    "         x_col (string): x_axis column name.\n",
    "         plot_title (string): plot title.\n",
    "         title_loc (string): plot title location.\n",
    "    '''\n",
    "    g = sb.countplot(data=df_data, x=x_col, color=bs_color, ax = ax[ax_indx]);\n",
    "    # set title\n",
    "    ax[ax_indx].set_title(plot_title,loc=title_loc)\n",
    "    # set yticks range and labels\n",
    "    ytick_rng, ytick_lbls = num_col_ticks(df_data[x_col].value_counts().sort_values().max(),ticks_step,extra_value)\n",
    "    ax[ax_indx].set_yticks(ytick_rng);\n",
    "    ax[ax_indx].set_yticklabels(ytick_lbls);\n",
    "    ax[ax_indx].set_ylabel('');\n",
    "    ax[ax_indx].set_xlabel('');"
   ]
  },
  {
   "cell_type": "markdown",
   "metadata": {},
   "source": [
    "<a id='uni'></a>\n",
    "## Univariate Exploration"
   ]
  },
  {
   "cell_type": "markdown",
   "metadata": {},
   "source": [
    "#### Custom Questions"
   ]
  },
  {
   "cell_type": "markdown",
   "metadata": {},
   "source": [
    "- Who uses Citibike system more male or female in 2020?"
   ]
  },
  {
   "cell_type": "code",
   "execution_count": 53,
   "metadata": {},
   "outputs": [
    {
     "data": {
      "image/png": "[encoded data removed]",
      "text/plain": [
       "<Figure size 432x288 with 1 Axes>"
      ]
     },
     "metadata": {},
     "output_type": "display_data"
    }
   ],
   "source": [
    "# Plot user gender in 2020 using pie chart.\n",
    "pie_chart(df_f2020['gender'],'CitiBike Usage by Gender in Q2/2020','center')\n",
    "plt.legend(bbox_to_anchor=(1.00,0.891), loc=\"upper left\");"
   ]
  },
  {
   "cell_type": "markdown",
   "metadata": {},
   "source": [
    "In the second quarter of 2020, 56% of CitiBike users were male. And 30% of its users were female."
   ]
  },
  {
   "cell_type": "markdown",
   "metadata": {},
   "source": [
    "- What's the most used bike in 2021?"
   ]
  },
  {
   "cell_type": "code",
   "execution_count": 54,
   "metadata": {},
   "outputs": [
    {
     "data": {
      "image/png": "[encoded data removed]",
      "text/plain": [
       "<Figure size 432x288 with 1 Axes>"
      ]
     },
     "metadata": {
      "needs_background": "light"
     },
     "output_type": "display_data"
    }
   ],
   "source": [
    "# Plot a bar chart having the percentages, instead of the actual count.\n",
    "\n",
    "base_color=sb.color_palette()[0]\n",
    "\n",
    "# Count the frequency of unique values in the `bike_type` column in 2021. \n",
    "type_counts = df_f2021['bike_type'].value_counts()\n",
    "\n",
    "# Get the unique values of the `bike_type` column, in the decreasing order of the frequency.\n",
    "type_order = type_counts.index \n",
    "\n",
    "# Compute the length of the longest bar in terms of the proportion\n",
    "max_prop = type_counts[0] / df_f2021.shape[0]\n",
    "\n",
    "# Use numpy.arange() function to produce a set of evenly spaced proportioned values \n",
    "#   between 0 and max_prop, with a step size 10%\n",
    "tick_props = np.arange(0, max_prop+0.1, 0.1)\n",
    "\n",
    "# Pick each element `v` from the `tick_props`, and convert it into a formatted string.\n",
    "tick_names = ['{:0.0f}'.format(v*100) for v in tick_props]\n",
    "\n",
    "#Plot the bar chart\n",
    "sb.countplot(data=df_f2021, y='bike_type', color=base_color, order=type_order);\n",
    "\n",
    "# Set xticks, labels and title of the chart\n",
    "plt.xticks(tick_props * df_f2021.shape[0], tick_names)\n",
    "plt.xlabel('Percentage (%)',labelpad=12);\n",
    "plt.ylabel('Bike Type',labelpad=12);\n",
    "plt.title('Most Used Bikes in Q2/2021',pad=15);"
   ]
  },
  {
   "cell_type": "markdown",
   "metadata": {},
   "source": [
    "get the frequency of each unique value."
   ]
  },
  {
   "cell_type": "code",
   "execution_count": 55,
   "metadata": {},
   "outputs": [
    {
     "data": {
      "text/plain": [
       "Docked      6834213\n",
       "Classic     1115844\n",
       "Electric          6\n",
       "Name: bike_type, dtype: int64"
      ]
     },
     "execution_count": 55,
     "metadata": {},
     "output_type": "execute_result"
    }
   ],
   "source": [
    "df_f2021['bike_type'].value_counts()"
   ]
  },
  {
   "cell_type": "markdown",
   "metadata": {},
   "source": [
    "Docked bike is the preferred bike for CitiBike users in the second quarter of 2021. Around 86% CitiBike users prefer Docked bike than other types. Electric Bike has 0% that means had been used few times over 3 months, maybe because of its price per minute compared to others."
   ]
  },
  {
   "cell_type": "markdown",
   "metadata": {},
   "source": [
    "#### Comparison Questions"
   ]
  },
  {
   "cell_type": "markdown",
   "metadata": {},
   "source": [
    "- How many trips made in the system?"
   ]
  },
  {
   "cell_type": "markdown",
   "metadata": {},
   "source": [
    "&nbsp;&nbsp;&nbsp;&nbsp;&nbsp;&nbsp; <font size=\"2\">compare number of trips made in Citibike during the second quarter of years (Apr-Jun) 2020 and 2021.</font>"
   ]
  },
  {
   "cell_type": "code",
   "execution_count": 64,
   "metadata": {},
   "outputs": [
    {
     "data": {
      "image/png": "[encoded data removed]",
      "text/plain": [
       "<Figure size 432x288 with 1 Axes>"
      ]
     },
     "metadata": {
      "needs_background": "light"
     },
     "output_type": "display_data"
    }
   ],
   "source": [
    "# Return the Series having count of trips from years dataframes.\n",
    "yrs_trip_count = pd.Series([df_f2020.shape[0],df_f2021.shape[0]]);\n",
    "yaxis_range, yaxis_labels = num_col_ticks(max(yrs_trip_count),1000000,500000);\n",
    "\n",
    "# Plot counts using bar chart\n",
    "sb.barplot(data = yrs_trip_count, x = ['2020','2021'], y = yrs_trip_count);\n",
    "\n",
    "# Set yticks range and labels\n",
    "plt.yticks(yaxis_range,yaxis_labels, fontsize=13);\n",
    "# Set chart title and x,y labels\n",
    "plt.title('Number of Second Quarter trips 2020/2021',pad = 15);\n",
    "plt.xlabel('Year',labelpad = 12,size= 13);\n",
    "plt.ylabel('No. of trips',labelpad = 12,size= 13);"
   ]
  },
  {
   "cell_type": "markdown",
   "metadata": {},
   "source": [
    "&nbsp;&nbsp;&nbsp;&nbsp;&nbsp;&nbsp; <font size=\"2\"> calculate number of new stations used in 2021.</font>"
   ]
  },
  {
   "cell_type": "code",
   "execution_count": 48,
   "metadata": {},
   "outputs": [
    {
     "name": "stdout",
     "output_type": "stream",
     "text": [
      "Number of new stations in 2021:  563\n"
     ]
    }
   ],
   "source": [
    "# Get the new stations added in 2021 which not exist in 2020\n",
    "main_list = list(set(df_f2021.start_station_name.unique()) - set(df_f2020.start_station_name.unique()))\n",
    "print(\"Number of new stations in 2021: \",len(main_list))"
   ]
  },
  {
   "cell_type": "markdown",
   "metadata": {},
   "source": [
    "There are 563 new stations used in 2021 that means convering more areas of New York City.<br>\n",
    "The number of trips in 2021 has almost doubled as shown in the previous chart."
   ]
  },
  {
   "cell_type": "markdown",
   "metadata": {},
   "source": [
    "- Which user made the most trips?"
   ]
  },
  {
   "cell_type": "code",
   "execution_count": 49,
   "metadata": {},
   "outputs": [
    {
     "data": {
      "image/png": "[encoded data removed]",
      "text/plain": [
       "<Figure size 1008x360 with 2 Axes>"
      ]
     },
     "metadata": {},
     "output_type": "display_data"
    }
   ],
   "source": [
    "# Plot two pie charts side-by-side for years 2020 and 2021.\n",
    "# Set a larger figure size for subplots\n",
    "fig = plt.figure(figsize = [14, 5]) \n",
    "\n",
    "# pie chart on left for year 2020.\n",
    "plt.subplot(1, 2, 1)\n",
    "pie_chart(df_f2020['member_casual'],'Q2/2020','center')\n",
    "\n",
    "# pie chart on right for year 2021.\n",
    "plt.subplot(1, 2, 2)\n",
    "pie_chart(df_f2021['member_casual'],'Q2/2021','center')\n",
    "\n",
    "# Set Main tile, legend and x,y labels of figure\n",
    "leg_lines,leg_labels = plt.gca().get_legend_handles_labels()\n",
    "fig.legend(leg_lines, leg_labels, loc='center right')\n",
    "fig.suptitle('Trips Percentage by User types',size= 15,y=1.04);"
   ]
  },
  {
   "cell_type": "markdown",
   "metadata": {},
   "source": [
    "According to the above two charts, around 70% of the total trips were made by Members in 2020 and 2021.\n",
    "There is a tiny difference between percentages of 2021 and 2020."
   ]
  },
  {
   "cell_type": "markdown",
   "metadata": {},
   "source": [
    "- What times of the days does the system get the most usage?"
   ]
  },
  {
   "cell_type": "code",
   "execution_count": 50,
   "metadata": {},
   "outputs": [
    {
     "data": {
      "image/png": "[encoded data removed]",
      "text/plain": [
       "<Figure size 1080x648 with 2 Axes>"
      ]
     },
     "metadata": {
      "needs_background": "light"
     },
     "output_type": "display_data"
    }
   ],
   "source": [
    "# Plot two bar charts for 2020 and 2021.\n",
    "#  set a larger figure size for subplots\n",
    "fig, ax = plt.subplots(nrows=2, figsize = [15,9])\n",
    "#  set 'blue' as default color.\n",
    "default_color = sb.color_palette()[0]\n",
    "\n",
    "# year 2020\n",
    "count_plot(0,df_f2020,'start_hour','Q2/2020','left',default_color,50000,50000)\n",
    "\n",
    "# year 2021\n",
    "count_plot(1,df_f2021,'start_hour','Q2/2021','left',default_color,100000,100000)\n",
    "\n",
    "# Set Main tile and x,y labels of figure\n",
    "fig.supylabel('Count')\n",
    "fig.supxlabel('Hours')\n",
    "fig.suptitle('Peak Start Hours of CitiBike Usage',size= 14);"
   ]
  },
  {
   "cell_type": "markdown",
   "metadata": {},
   "source": [
    "According to the above two charts, CitiBike usage gradually increases from 8 AM to 6 PM.\n",
    "That's aligned with normal working hours in New York City.\n"
   ]
  },
  {
   "cell_type": "markdown",
   "metadata": {},
   "source": [
    "- How long does the average trip take?"
   ]
  },
  {
   "cell_type": "code",
   "execution_count": 51,
   "metadata": {},
   "outputs": [
    {
     "data": {
      "image/png": "[encoded data removed]",
      "text/plain": [
       "<Figure size 1008x360 with 2 Axes>"
      ]
     },
     "metadata": {
      "needs_background": "light"
     },
     "output_type": "display_data"
    }
   ],
   "source": [
    "# Histogram of trip duration distribution in 2020 and 2021.\n",
    "#  set bins\n",
    "binsize = 100\n",
    "\n",
    "# Set a larger figure size for subplots\n",
    "fig=plt.figure(figsize = [14, 5]) \n",
    "\n",
    "# year 2020\n",
    "#   left hist\n",
    "plt.subplot(1, 2, 1)\n",
    "bins = np.arange(0, df_f2020['duration_min'].max()+binsize, binsize);\n",
    "hist(df_f2020,'duration_min','Q2/2020',bins,xscale='',xlim=500)\n",
    "\n",
    "# year 2021\n",
    "#  right hist\n",
    "plt.subplot(1, 2, 2)\n",
    "bins = np.arange(0, df_f2021['duration_min'].max()+binsize, binsize);\n",
    "hist(df_f2021,'duration_min','Q2/2021',bins,xscale='',xlim=500)\n",
    "\n",
    "# Set Main tile and x labels of figure\n",
    "fig.supxlabel('Trip Duration (min)')\n",
    "fig.suptitle('Distribution of Trip Duration',size= 15,y=1.04);"
   ]
  },
  {
   "cell_type": "markdown",
   "metadata": {},
   "source": [
    "The above two histograms follows a highly skewed distribution. It's difficult to interpret x-axis ticks.\n",
    "It's solved by applying a logarithmic transformation to x-axis ."
   ]
  },
  {
   "cell_type": "code",
   "execution_count": 52,
   "metadata": {},
   "outputs": [
    {
     "data": {
      "image/png": "[encoded data removed]",
      "text/plain": [
       "<Figure size 1008x360 with 2 Axes>"
      ]
     },
     "metadata": {
      "needs_background": "light"
     },
     "output_type": "display_data"
    }
   ],
   "source": [
    "# A a logarithmic transformation to 'Trip Duration' histograms\n",
    "\n",
    "#  set xticks labels\n",
    "ticks = [0.1,0.3,1,3,10,30,100,300,1000,3000,10000]\n",
    "labels = ['{}'.format(val) for val in ticks]\n",
    "bins_edges = 10**np.arange(0,4.0+0.1,0.1)\n",
    "\n",
    "# Set a larger figure size for subplots\n",
    "fig=plt.figure(figsize = [14, 5]) \n",
    "\n",
    "\n",
    "# year 2020\n",
    "\n",
    "#  left hist\n",
    "plt.subplot(1, 2, 1)\n",
    "hist(df_f2020,'duration_min','Q2/2020',bins_edges,xscale='log',xticks=ticks,xlabels=labels)\n",
    "\n",
    "# year 2021\n",
    "#  right hist\n",
    "plt.subplot(1, 2, 2)\n",
    "hist(df_f2021,'duration_min','Q2/2021',bins_edges,xscale='log',xticks=ticks,xlabels=labels)\n",
    "\n",
    "# Set Main tile and x labels of figure\n",
    "fig.supxlabel('Trip Duration (min)')\n",
    "fig.suptitle('Distributions of Trip Duration',size= 15,y=1.001);"
   ]
  },
  {
   "cell_type": "markdown",
   "metadata": {},
   "source": [
    "When plotted on a log-scale, the trip duration distribution looks roughly unimodal.<br> \n",
    "In 2020, distribution with one peak around 10 minutes in 2021 and a second large peak around 20 minutes. In 2020, with one peak around 30 minutes in 2021 and a second large peak around 20 minutes."
   ]
  },
  {
   "cell_type": "markdown",
   "metadata": {},
   "source": [
    "### Discuss the distribution(s) of your variable(s) of interest. Were there any unusual points? Did you need to perform any transformations?\n",
    "\n",
    "\n",
    ">The initial distribution of trip duration varaible was based on its natural units. That distribution followed a highly skewed distribution. Under the log transformation, the data looked unimodal.\n",
    "\n",
    "### Of the features you investigated, were there any unusual distributions? Did you perform any operations on the data to tidy, adjust, or change the form of the data? If so, why did you do this?\n",
    "\n",
    "> 1. The trip duration was calculated in minutes. because it is difficult to find trip that didn't exceed 1 min.\n",
    "> 2. New variables created: 'hour','month' and 'day of the week' from existing variabe 'Start Date and Time'."
   ]
  },
  {
   "cell_type": "markdown",
   "metadata": {},
   "source": [
    "<a id='bi'></a>\n",
    "## Bivariate Exploration"
   ]
  },
  {
   "cell_type": "markdown",
   "metadata": {},
   "source": [
    "- When are most trips taken in terms month?"
   ]
  },
  {
   "cell_type": "code",
   "execution_count": 56,
   "metadata": {},
   "outputs": [],
   "source": [
    "# Get trips per month from 2020 and 2021 dataframes.\n",
    "#  dataframe of counts per month for years.\n",
    "df_yrs_month = pd.DataFrame(columns=['year','month_count','start_month']);\n",
    "#     generate \n",
    "for yr_dt in [['2020',df_f2020],['2021',df_f2021]]:\n",
    "    df_yr = pd.DataFrame()\n",
    "    df_yr['month_count'] =  yr_dt[1]['start_month'].value_counts().sort_values().to_list()\n",
    "    df_yr['start_month'] =  yr_dt[1]['start_month'].value_counts().sort_values().index\n",
    "    df_yr['year'] = yr_dt[0]\n",
    "    df_yrs_month = df_yrs_month.append(df_yr, ignore_index = True)"
   ]
  },
  {
   "cell_type": "code",
   "execution_count": 65,
   "metadata": {},
   "outputs": [
    {
     "data": {
      "image/png": "[encoded data removed]",
      "text/plain": [
       "<Figure size 421.5x360 with 1 Axes>"
      ]
     },
     "metadata": {
      "needs_background": "light"
     },
     "output_type": "display_data"
    }
   ],
   "source": [
    "# Plot dataframe of counts per month in one chart.\n",
    "g = sb.catplot(x='start_month',y='month_count', hue='year', kind='bar', data=df_yrs_month);\n",
    "#   set yticks range and labels\n",
    "ytick_rng_21, ytick_lbls_21 = num_col_ticks(df_yrs_month['month_count'].max(),500000,1000000);\n",
    "g.set(yticks=ytick_rng_21,yticklabels=ytick_lbls_21);\n",
    "#   set chart title\n",
    "g.ax.set_title(\"Number of Trips (Apr-Jun) 2020/2021\");\n",
    "#   set axes labels\n",
    "g.ax.set_xlabel(\"Month\",labelpad=15);\n",
    "g.ax.set_ylabel(\"Count\",labelpad=15);"
   ]
  },
  {
   "cell_type": "markdown",
   "metadata": {},
   "source": [
    "According to the above chart, there is a significant increase in the number of trips in the second quarter of 2021 compared to 2020. The increase has doubled as in April. Most of the trips were made in June (Spring/Summer Season) according to NYC weather."
   ]
  },
  {
   "cell_type": "markdown",
   "metadata": {},
   "source": [
    "- What's the average of trip duration taken by users?"
   ]
  },
  {
   "cell_type": "code",
   "execution_count": 66,
   "metadata": {},
   "outputs": [
    {
     "data": {
      "image/png": "[encoded data removed]",
      "text/plain": [
       "<Figure size 1008x360 with 2 Axes>"
      ]
     },
     "metadata": {
      "needs_background": "light"
     },
     "output_type": "display_data"
    }
   ],
   "source": [
    "# Plot two box plots for years 2020 and 2021.\n",
    "# Set a larger figure size for subplots\n",
    "fig=plt.figure(figsize = [14, 5]) \n",
    "\n",
    "# left plot for year 2020.\n",
    "plt.subplot(1, 2, 1)\n",
    "box_plot(df_f2020,'member_casual','duration_min','Q2/2020',ylim=80)\n",
    "\n",
    "# right plot for year 2021.\n",
    "plt.subplot(1, 2, 2)\n",
    "box_plot(df_f2021,'member_casual','duration_min','Q2/2021',ylim=80)\n",
    "\n",
    "\n",
    "# Set Main tile and x,y labels of figure\n",
    "fig.supylabel('Trip Duration')\n",
    "fig.supxlabel('User Type')\n",
    "fig.suptitle('Duration by User type',y=1.04);"
   ]
  },
  {
   "cell_type": "markdown",
   "metadata": {},
   "source": [
    "According to the above two charts, the avg. of trip duration for Casual users is higher than Member users.\n",
    "Maybe it is due to mostly the user who has a membership is a NYC local. But casual user represents visitors or tourists to NYC \n",
    "meaning longer distances to discover NYC."
   ]
  },
  {
   "cell_type": "markdown",
   "metadata": {},
   "source": [
    "-  Is there a relation between trip duration and day of the week? "
   ]
  },
  {
   "cell_type": "code",
   "execution_count": 59,
   "metadata": {},
   "outputs": [
    {
     "data": {
      "image/png": "[encoded data removed]",
      "text/plain": [
       "<Figure size 1008x360 with 2 Axes>"
      ]
     },
     "metadata": {
      "needs_background": "light"
     },
     "output_type": "display_data"
    }
   ],
   "source": [
    "# Plot two box plots for years 2020 and 2021.\n",
    "# Set a larger figure size for subplots\n",
    "fig=plt.figure(figsize = [14, 5]) \n",
    "base_color=sb.color_palette()[0]\n",
    "\n",
    "\n",
    "days_order=['Monday','Tuesday','Wednesday','Thursday','Friday','Saturday','Sunday']\n",
    "\n",
    "# left chart for year 2020.\n",
    "plt.subplot(1, 2, 1)\n",
    "box_plot(df_f2020,'start_day','duration_min','Q2/2020',bs_color=base_color,ylim=80,x_rot_deg=45,x_order=days_order)\n",
    "\n",
    "\n",
    "# right chart for year 2021.\n",
    "plt.subplot(1, 2, 2)\n",
    "box_plot(df_f2021,'start_day','duration_min','Q2/2021',bs_color=base_color,ylim=80,x_rot_deg=45,x_order=days_order)\n",
    "\n",
    "\n",
    "# Set Main tile and x,y labels of figure\n",
    "fig.supylabel('Trip Duration')\n",
    "fig.suptitle('Duration on days of the week',y=1.04);"
   ]
  },
  {
   "cell_type": "markdown",
   "metadata": {},
   "source": [
    "In 2020 and 2021, Saturday and Sunday have the highest average trip duration compared to other days of week."
   ]
  },
  {
   "cell_type": "markdown",
   "metadata": {},
   "source": [
    "### Talk about some of the relationships you observed in this part of the investigation. How did the feature(s) of interest vary with other features in the dataset?\n",
    "\n",
    "> 1. Number of trips is affected by the seasons.\n",
    "> 2. The avg. of trip duration for Casual users is higher than Member users.\n",
    "\n",
    "### Did you observe any interesting relationships between the other features (not the main feature(s) of interest)?\n",
    "\n",
    "> There is no significant relationships between other features."
   ]
  },
  {
   "cell_type": "markdown",
   "metadata": {},
   "source": [
    "<a id='multi'></a>\n",
    "## Multivariate Exploration"
   ]
  },
  {
   "cell_type": "markdown",
   "metadata": {},
   "source": [
    "#### Custom Questions"
   ]
  },
  {
   "cell_type": "markdown",
   "metadata": {},
   "source": [
    "- How gender and user type affect the trip duration in 2020?"
   ]
  },
  {
   "cell_type": "code",
   "execution_count": 61,
   "metadata": {},
   "outputs": [
    {
     "data": {
      "image/png": "[encoded data removed]",
      "text/plain": [
       "<Figure size 1080x360 with 3 Axes>"
      ]
     },
     "metadata": {
      "needs_background": "light"
     },
     "output_type": "display_data"
    }
   ],
   "source": [
    "# Plot the relationship between gender, user type and trip duration using FacetGrid of boxplots.\n",
    "g = sb.FacetGrid(data = df_f2020, col = 'gender', height = 5)\n",
    "g.map(sb.boxplot, 'member_casual', 'duration_min', palette=\"Set2\",order=df_f2020.member_casual.value_counts().index)\n",
    "\n",
    "# Generate y_axis ticks and labels.\n",
    "y_ticks = [0.1,0.3,1,3,10,30,100,300,1000]\n",
    "y_labels = ['{}'.format(val) for val in y_ticks]\n",
    "\n",
    "\n",
    "# Remove '=' from box_plot title. Since title of boxplot in facetgrid includes '=', ex.\"gender = female\".\n",
    "for ax in g.axes.flat:\n",
    "    if ax.get_title():\n",
    "        ax.set_title(ax.get_title().split('=')[1],fontsize='medium')\n",
    "\n",
    "\n",
    "# apply logarithmic transformation to 'Trip Duration' to make chart interpretable\n",
    "plt.yscale('log')\n",
    "\n",
    "# Set limit to y_axis\n",
    "plt.ylim(0.1,1000)\n",
    "\n",
    "#  set y_axis title, ticks and labels.\n",
    "plt.yticks(y_ticks, y_labels);\n",
    "g.set_axis_labels(x_var=\"\", y_var=\"Duration (min)\",fontsize='large');\n",
    "\n",
    "# Set x_axis label\n",
    "g.axes[0,1].set_xlabel('User Type',labelpad=15,fontsize='x-large');\n",
    "\n",
    "# Set Chart Title\n",
    "plt.suptitle(\"Trip Duration by Gender and User Type in Q2/2020\", y=1.10);"
   ]
  },
  {
   "cell_type": "markdown",
   "metadata": {},
   "source": [
    "According to the above three charts, the average of trip duration for member females is higher than the average of trip duration for other members (male and unknown). The trip duration average of casual users is approximately equal for all genders."
   ]
  },
  {
   "cell_type": "markdown",
   "metadata": {},
   "source": [
    "- Is the trip duration affected by the types of user and bikes in 2021?"
   ]
  },
  {
   "cell_type": "code",
   "execution_count": 62,
   "metadata": {},
   "outputs": [
    {
     "data": {
      "image/png": "[encoded data removed]",
      "text/plain": [
       "<Figure size 432x288 with 2 Axes>"
      ]
     },
     "metadata": {
      "needs_background": "light"
     },
     "output_type": "display_data"
    }
   ],
   "source": [
    "# Plot the relationship between bike type, user type and trip duration using heatmap.\n",
    "\n",
    "#  first, group trips by user type and bike type then get average of trip duration of these trips.\n",
    "cat_means = df_f2021.groupby(['member_casual', 'bike_type']).mean()['duration_min']\n",
    "cat_means = cat_means.reset_index(name = 'Avg. Duration (min)')\n",
    "\n",
    "#  use pivot_table function to spread the data from long form to tidy form to generate heatmap.\n",
    "cat_means = cat_means.pivot(index = 'bike_type', columns = 'member_casual',values = 'Avg. Duration (min)')\n",
    "\n",
    "#  generate the heatmap\n",
    "sb.heatmap(cat_means, annot = True, fmt = '.3f',cbar_kws = {'label' : 'Avg. Duration (min)'}, cmap = 'magma_r');\n",
    "\n",
    "# Set x,y axes labels.\n",
    "plt.yticks(rotation=0)\n",
    "plt.ylabel('Bike Type',labelpad=20);\n",
    "plt.xlabel('User Type',labelpad=15);\n",
    "plt.suptitle(\"Trip Duration Average by Bike and User Types in Q2/2021\", y=0.99);"
   ]
  },
  {
   "cell_type": "markdown",
   "metadata": {},
   "source": [
    "From the heat map, the avg. of trip duration is longer when using Docked bike than using Classic bike for Casual and Member users. As we concluded before the avg. of trip duration for Casual users is higher than Member users."
   ]
  },
  {
   "cell_type": "markdown",
   "metadata": {},
   "source": [
    "#### Comparison Questions"
   ]
  },
  {
   "cell_type": "markdown",
   "metadata": {},
   "source": [
    "- Which times of the day users take more time in their trips?"
   ]
  },
  {
   "cell_type": "code",
   "execution_count": 60,
   "metadata": {},
   "outputs": [
    {
     "data": {
      "image/png": "[encoded data removed]",
      "text/plain": [
       "<Figure size 1080x648 with 2 Axes>"
      ]
     },
     "metadata": {
      "needs_background": "light"
     },
     "output_type": "display_data"
    }
   ],
   "source": [
    "# Set a larger figure size for subplots\n",
    "fig, ax = plt.subplots(nrows=2, figsize = [15,9])\n",
    "\n",
    "# year 2020\n",
    "#   first chart\n",
    "g= sb.barplot(data = df_f2020, x = 'start_hour', y = 'duration_min', hue = 'member_casual', ax = ax[0])\n",
    "ax[0].set_ylabel('');\n",
    "ax[0].set_xlabel('');\n",
    "ax[0].legend('');\n",
    "\n",
    "# year 2021\n",
    "#   second chart\n",
    "g= sb.barplot(data = df_f2021, x = 'start_hour', y = 'duration_min', hue = 'member_casual', ax = ax[1])\n",
    "ax[1].set_ylabel('');\n",
    "ax[1].legend('');\n",
    "\n",
    "# Set Main tile, legend and x,y labels of figure\n",
    "\n",
    "leg_lines,leg_labels = ax[0].get_legend_handles_labels()\n",
    "fig.legend(leg_lines, leg_labels, loc='center right');\n",
    "fig.suptitle('Duration by User types over hours',size= 15,y=1.04);\n",
    "fig.supylabel('Duration');\n",
    "fig.supxlabel('Start Hour');"
   ]
  },
  {
   "cell_type": "markdown",
   "metadata": {},
   "source": [
    "At 4 AM, casual user took longer trips than any hour in 2020. And in 2021, casual user took longer trips at 3 AM than any hour.\n",
    "Regarding the other user, there is no significant difference between hours."
   ]
  },
  {
   "cell_type": "markdown",
   "metadata": {},
   "source": [
    "### Talk about some of the relationships you observed in this part of the investigation. Were there features that strengthened each other in terms of looking at your feature(s) of interest?\n",
    "\n",
    "> The relations between trip duration, gender, bike type and user type.\n",
    "\n",
    "### Were there any interesting or surprising interactions between features?\n",
    "\n",
    "> The interaction between day of the week and trip duration. Weekends have the highest average trip duration compared to other days of week."
   ]
  },
  {
   "cell_type": "markdown",
   "metadata": {},
   "source": [
    "<a id='conclusions'></a>\n",
    "## Conclusions"
   ]
  },
  {
   "cell_type": "markdown",
   "metadata": {},
   "source": [
    "- In the second quarter of 2020, 56% of CitiBike users were male. And 30% of its users were female.\n",
    "- Docked bike is the preferred bike for CitiBike users in the second quarter of 2021. Electric bike only had been used 6 times over 3 months, maybe because of its price per minute compared to others.\n",
    "- The number of trips in the second quarter of the year 2021 has almost doubled.\n",
    "- Around 70% of the total trips were made by Members in 2021.\n",
    "- CitiBike usage gradually increases during normal working hours in New York City.\n",
    "- Most of the trips were made in June (Spring/Summer Season) according to NYC weather.\n",
    "- The average of trip duration for Casual users is higher than Member users.\n",
    "- In 2020 and 2021, Saturday and Sunday have the highest average trip duration compared to other days of week.\n",
    "- The average of trip duration for member females is higher than the average of trip duration for other members (male and unknown).\n",
    "- The average of trip duration is longer when using Docked bike than using Classic bike for Casual and Member users."
   ]
  }
 ],
 "metadata": {
  "kernelspec": {
   "display_name": "Python 3 (ipykernel)",
   "language": "python",
   "name": "python3"
  },
  "language_info": {
   "codemirror_mode": {
    "name": "ipython",
    "version": 3
   },
   "file_extension": ".py",
   "mimetype": "text/x-python",
   "name": "python",
   "nbconvert_exporter": "python",
   "pygments_lexer": "ipython3",
   "version": "3.8.12"
  }
 },
 "nbformat": 4,
 "nbformat_minor": 2
}
